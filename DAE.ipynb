{
  "nbformat": 4,
  "nbformat_minor": 0,
  "metadata": {
    "accelerator": "GPU",
    "colab": {
      "name": "DAE.ipynb",
      "provenance": [],
      "collapsed_sections": [],
      "authorship_tag": "ABX9TyOFnv5QEUOtXHCrCYFRdUT2",
      "include_colab_link": true
    },
    "kernelspec": {
      "display_name": "Python 3",
      "name": "python3"
    },
    "language_info": {
      "name": "python"
    }
  },
  "cells": [
    {
      "cell_type": "markdown",
      "metadata": {
        "id": "view-in-github",
        "colab_type": "text"
      },
      "source": [
        "<a href=\"https://colab.research.google.com/github/apanariello4/colab-notebooks/blob/main/DAE.ipynb\" target=\"_parent\"><img src=\"https://colab.research.google.com/assets/colab-badge.svg\" alt=\"Open In Colab\"/></a>"
      ]
    },
    {
      "cell_type": "code",
      "metadata": {
        "id": "Y_CygG-YQSk_"
      },
      "source": [
        "import torch\n",
        "import torch.nn as nn\n",
        "import torch.nn.functional as F\n",
        "import torch.optim as optim\n",
        "import matplotlib.pyplot as plt\n",
        "\n",
        "from torch.utils.data import DataLoader\n",
        "from torchvision import datasets\n",
        "from torchvision import transforms\n",
        "from torchvision import utils\n",
        "\n",
        "transforms = transforms.Compose([transforms.ToTensor(),transforms.Normalize([0.5], [0.5])])\n",
        "\n",
        "train_dataset = datasets.MNIST('/tmp/data', train=True, download=True, \n",
        "                               transform=transforms)\n",
        "\n",
        "test_dataset = datasets.MNIST('./data', train=False, download=True,\n",
        "                              transform=transforms)"
      ],
      "execution_count": 197,
      "outputs": []
    },
    {
      "cell_type": "code",
      "metadata": {
        "id": "ZBuQFTUVI-yf"
      },
      "source": [
        "BATCH_SIZE      = 64        \n",
        "N_EPOCHS        = 20       \n",
        "INPUT_DIM       = 28 * 28   # MNIST img size\n",
        "HIDDEN_DIM      = 256       \n",
        "LATENT_DIM      = 20        \n",
        "lr              = 1e-3\n",
        "VARIANCE        = 0.01 "
      ],
      "execution_count": 198,
      "outputs": []
    },
    {
      "cell_type": "code",
      "metadata": {
        "id": "Ab-q0gCCRGrm"
      },
      "source": [
        "train_iterator = DataLoader(train_dataset, batch_size=BATCH_SIZE, shuffle=True)\n",
        "test_iterator = DataLoader(test_dataset, batch_size=BATCH_SIZE)"
      ],
      "execution_count": 199,
      "outputs": []
    },
    {
      "cell_type": "code",
      "metadata": {
        "id": "BQpaWziKRc8c"
      },
      "source": [
        "class Encoder(nn.Module):\n",
        "  \n",
        "  def __init__(self, input_dim: int, hidden_dim: int, code_dim: int):\n",
        "    super(Encoder, self).__init__()\n",
        "\n",
        "    self.encoder = nn.Sequential(\n",
        "        nn.Linear(input_dim, hidden_dim),\n",
        "        nn.ReLU(),\n",
        "        nn.Linear(hidden_dim, hidden_dim),\n",
        "        nn.ReLU(),\n",
        "        nn.Linear(hidden_dim, code_dim),\n",
        "    )\n",
        "\n",
        "  def forward(self, x: torch.Tensor):\n",
        "    return self.encoder(x)"
      ],
      "execution_count": 200,
      "outputs": []
    },
    {
      "cell_type": "code",
      "metadata": {
        "id": "kix7QU14UAWw"
      },
      "source": [
        "class Decoder(nn.Module):\n",
        "  \n",
        "  def __init__(self, output_dim: int, hidden_dim: int, code_dim: int):\n",
        "    super(Decoder, self).__init__()\n",
        "\n",
        "    self.decoder = nn.Sequential(\n",
        "        nn.Linear(code_dim, hidden_dim),\n",
        "        nn.ReLU(),\n",
        "        nn.Linear(hidden_dim, hidden_dim),\n",
        "        nn.ReLU(),\n",
        "        nn.Linear(hidden_dim, output_dim),\n",
        "    )\n",
        "\n",
        "  def forward(self, x: torch.Tensor):\n",
        "    return self.decoder(x)"
      ],
      "execution_count": 201,
      "outputs": []
    },
    {
      "cell_type": "code",
      "metadata": {
        "id": "sYzhxituUWTw"
      },
      "source": [
        "class DAE(nn.Module):\n",
        "  \n",
        "  def __init__(self, enc: Encoder, dec: Decoder):\n",
        "    super(DAE, self).__init__()\n",
        "    self.enc = enc\n",
        "    self.dec = dec\n",
        "\n",
        "  def forward(self, x):\n",
        "    x = self.enc(x)\n",
        "    x = self.dec(x)\n",
        "\n",
        "    return x"
      ],
      "execution_count": 202,
      "outputs": []
    },
    {
      "cell_type": "code",
      "metadata": {
        "id": "-QGovtMohPTG"
      },
      "source": [
        "def add_gaussian_noise(img: torch.Tensor, variance: float = VARIANCE) -> torch.Tensor:\n",
        "  return img + (variance**0.5)*torch.randn_like(img)"
      ],
      "execution_count": 203,
      "outputs": []
    },
    {
      "cell_type": "code",
      "metadata": {
        "id": "h3VA-Fgv6n4P",
        "colab": {
          "base_uri": "https://localhost:8080/"
        },
        "outputId": "f0ac15d3-ac7a-44d3-88e1-a650cec0b71e"
      },
      "source": [
        "device = torch.device('cuda' if torch.cuda.is_available() else 'cpu')\n",
        "print(device)\n",
        "\n",
        "encoder   = Encoder(input_dim=INPUT_DIM, hidden_dim=HIDDEN_DIM, code_dim=LATENT_DIM)\n",
        "decoder   = Decoder(output_dim=INPUT_DIM, hidden_dim=HIDDEN_DIM, code_dim=LATENT_DIM)\n",
        "model     = DAE(encoder, decoder).to(device) \n",
        "criterion = nn.MSELoss()\n",
        "optimizer = optim.Adam(model.parameters(), lr=lr, weight_decay=1e-5)"
      ],
      "execution_count": 204,
      "outputs": [
        {
          "output_type": "stream",
          "text": [
            "cuda\n"
          ],
          "name": "stdout"
        }
      ]
    },
    {
      "cell_type": "code",
      "metadata": {
        "colab": {
          "base_uri": "https://localhost:8080/",
          "height": 281
        },
        "id": "BRCCWM0CP_9X",
        "outputId": "bf260587-8112-4691-e6fe-dbae89f97a49"
      },
      "source": [
        "# Show noisy images\n",
        "dataiter = iter(train_iterator)\n",
        "images, _ = dataiter.next()\n",
        "\n",
        "images = images[1:3,:,:,:]\n",
        "\n",
        "fig, ax = plt.subplots(2,2)\n",
        "ax[0,0].set_title(\"Original Image\")\n",
        "ax[0,1].set_title(\"Noisy Image\")\n",
        "\n",
        "for i, img in enumerate(images):\n",
        "  ax[i,0].imshow(img.squeeze(), cmap='gray')\n",
        "\n",
        "  noisy = add_gaussian_noise(img)\n",
        "\n",
        "  ax[i,1].imshow(noisy.squeeze(), cmap='gray')\n",
        "  "
      ],
      "execution_count": 205,
      "outputs": [
        {
          "output_type": "display_data",
          "data": {
            "image/png": "[encoded data removed]",
            "text/plain": [
              "<Figure size 432x288 with 4 Axes>"
            ]
          },
          "metadata": {
            "tags": [],
            "needs_background": "light"
          }
        }
      ]
    },
    {
      "cell_type": "code",
      "metadata": {
        "colab": {
          "base_uri": "https://localhost:8080/"
        },
        "id": "MhRPR1TD9lZo",
        "outputId": "5a3d94d0-0333-44b9-8e2e-986cc9015d31"
      },
      "source": [
        "l=len(train_iterator)\n",
        "losslist=list()\n",
        "epochloss=0\n",
        "running_loss=0\n",
        "\n",
        "for e in range(N_EPOCHS):\n",
        "    for data in train_iterator:\n",
        "        img, _ = data\n",
        "        img = img.view(-1, INPUT_DIM).to(device)\n",
        "        \n",
        "        # Add gaussian noise mean=1, var=0.1\n",
        "        noisy_img = add_gaussian_noise(img).to(device)\n",
        "\n",
        "        # ===================forward=====================\n",
        "        output = model(noisy_img)\n",
        "        loss = criterion(output, img)\n",
        "\n",
        "        # ===================backward====================\n",
        "        optimizer.zero_grad()\n",
        "        loss.backward()\n",
        "        optimizer.step()\n",
        "        \n",
        "        # ===================log========================\n",
        "        running_loss+=loss.item()\n",
        "        epochloss+=loss.item()\n",
        "    \n",
        "    #-----------------Log-------------------------------\n",
        "    losslist.append(running_loss/l)\n",
        "    running_loss=0\n",
        "    print(\"======> epoch: {}/{}, Loss:{}\".format(e,N_EPOCHS,loss.item()))"
      ],
      "execution_count": 206,
      "outputs": [
        {
          "output_type": "stream",
          "text": [
            "======> epoch: 0/20, Loss:0.06984355300664902\n",
            "======> epoch: 1/20, Loss:0.07587455213069916\n",
            "======> epoch: 2/20, Loss:0.05721799656748772\n",
            "======> epoch: 3/20, Loss:0.059557635337114334\n",
            "======> epoch: 4/20, Loss:0.06430938094854355\n",
            "======> epoch: 5/20, Loss:0.053758688271045685\n",
            "======> epoch: 6/20, Loss:0.06446721404790878\n",
            "======> epoch: 7/20, Loss:0.05324189364910126\n",
            "======> epoch: 8/20, Loss:0.05052812770009041\n",
            "======> epoch: 9/20, Loss:0.0520518459379673\n",
            "======> epoch: 10/20, Loss:0.04668348655104637\n",
            "======> epoch: 11/20, Loss:0.053703200072050095\n",
            "======> epoch: 12/20, Loss:0.042818713933229446\n",
            "======> epoch: 13/20, Loss:0.04644020274281502\n",
            "======> epoch: 14/20, Loss:0.04666832461953163\n",
            "======> epoch: 15/20, Loss:0.04574984684586525\n",
            "======> epoch: 16/20, Loss:0.045384250581264496\n",
            "======> epoch: 17/20, Loss:0.04273485392332077\n",
            "======> epoch: 18/20, Loss:0.043291255831718445\n",
            "======> epoch: 19/20, Loss:0.0431252084672451\n"
          ],
          "name": "stdout"
        }
      ]
    },
    {
      "cell_type": "code",
      "metadata": {
        "colab": {
          "base_uri": "https://localhost:8080/",
          "height": 284
        },
        "id": "Eimh4VjIKLEk",
        "outputId": "dc81772c-6298-44f8-bc2b-a3fd78c688c8"
      },
      "source": [
        "plt.plot(range(len(losslist)),losslist)"
      ],
      "execution_count": 207,
      "outputs": [
        {
          "output_type": "execute_result",
          "data": {
            "text/plain": [
              "[<matplotlib.lines.Line2D at 0x7fdffb10f190>]"
            ]
          },
          "metadata": {
            "tags": []
          },
          "execution_count": 207
        },
        {
          "output_type": "display_data",
          "data": {
            "image/png": "[encoded data removed]",
            "text/plain": [
              "<Figure size 432x288 with 1 Axes>"
            ]
          },
          "metadata": {
            "tags": [],
            "needs_background": "light"
          }
        }
      ]
    },
    {
      "cell_type": "code",
      "metadata": {
        "id": "TgSpS6BX-ISP",
        "colab": {
          "base_uri": "https://localhost:8080/",
          "height": 723
        },
        "outputId": "576c6f5f-4071-45fb-c7da-50e3dc3442e0"
      },
      "source": [
        "#Show results on test set\n",
        "dataiter = iter(test_iterator)\n",
        "images, _ = dataiter.next()\n",
        "\n",
        "images = images[1:4,:,:,:]\n",
        "\n",
        "fig, ax = plt.subplots(3, 3, figsize=(10,10))\n",
        "ax[0,0].set_title(\"Original Image\")\n",
        "ax[0,1].set_title(\"Dirty Image\")\n",
        "ax[0,2].set_title(\"Cleaned Image\")\n",
        "fig.tight_layout(h_pad=1)\n",
        "\n",
        "with torch.no_grad():\n",
        "  for i, img in enumerate(images):\n",
        "    ax[i,0].imshow(img.squeeze(), cmap='gray')\n",
        "\n",
        "    noisy = add_gaussian_noise(img)\n",
        "\n",
        "    ax[i,1].imshow(noisy.squeeze(), cmap='gray')\n",
        "\n",
        "    reconstructed = model(noisy.view(noisy.size(0), -1).to(device))\n",
        "\n",
        "    ax[i,2].imshow(reconstructed.to('cpu').view(28,28), cmap='gray')"
      ],
      "execution_count": 208,
      "outputs": [
        {
          "output_type": "display_data",
          "data": {
            "image/png": "[encoded data removed]",
            "text/plain": [
              "<Figure size 720x720 with 9 Axes>"
            ]
          },
          "metadata": {
            "tags": [],
            "needs_background": "light"
          }
        }
      ]
    },
    {
      "cell_type": "code",
      "metadata": {
        "id": "DnJmuO_aLFWG"
      },
      "source": [
        ""
      ],
      "execution_count": 208,
      "outputs": []
    }
  ]
}